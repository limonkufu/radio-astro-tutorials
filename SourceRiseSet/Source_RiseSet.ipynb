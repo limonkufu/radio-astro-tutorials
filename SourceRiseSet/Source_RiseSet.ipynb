{
 "cells": [
  {
   "cell_type": "code",
   "execution_count": 1,
   "metadata": {},
   "outputs": [],
   "source": [
    "import matplotlib.pyplot as plt\n",
    "import matplotlib.ticker as ticker\n",
    "import numpy as np\n",
    "# import re\n",
    "from datetime import datetime\n",
    "from astropy.visualization import astropy_mpl_style, quantity_support\n",
    "import astropy.units as u\n",
    "from astropy.coordinates import AltAz, EarthLocation, SkyCoord, ICRS, Longitude\n",
    "from astropy.time import Time\n",
    "from helpers.ArrayCoordinate import MidPositions, LowPositions\n",
    "from helpers.TimeRange import TimeRange\n",
    "\n",
    "plt.style.use(astropy_mpl_style)"
   ]
  },
  {
   "cell_type": "code",
   "execution_count": 2,
   "metadata": {},
   "outputs": [
    {
     "data": {
      "text/plain": [
       "'Turn into a single Command\\n\\nObservable(array,target_dict,start_time,obs_period)\\n\\nBasic function of single command\\n- Do a Rise/Set plot\\n- Give Rise/Set times for sources\\n\\nExtensions... (or from the helpers alone)\\n- read an SB JSON and make the plot.\\n\\n'"
      ]
     },
     "execution_count": 2,
     "metadata": {},
     "output_type": "execute_result"
    }
   ],
   "source": [
    "\"\"\"Turn into a single Command\n",
    "\n",
    "Observable(array,target_dict,start_time,obs_period)\n",
    "\n",
    "Basic function of single command\n",
    "- Do a Rise/Set plot\n",
    "- Give Rise/Set times for sources\n",
    "\n",
    "Extensions... (or from the helpers alone)\n",
    "- read an SB JSON and make the plot.\n",
    "\n",
    "\"\"\""
   ]
  },
  {
   "cell_type": "markdown",
   "metadata": {},
   "source": [
    "## Load array positions"
   ]
  },
  {
   "cell_type": "code",
   "execution_count": 3,
   "metadata": {},
   "outputs": [
    {
     "name": "stdout",
     "output_type": "stream",
     "text": [
      "Array:Mid\n",
      "Using only SKA dishes \n"
     ]
    }
   ],
   "source": [
    "desired_array = 'Mid' #(or 'Low')\n",
    "if desired_array == 'Mid':\n",
    "    print(\"Array:\"+desired_array+\"\\nUsing only SKA dishes \")\n",
    "    dishes = MidPositions('AncillData/mid_array_coords.dat','SKA')\n",
    "    average_position = dishes.array_ave_position()\n",
    "    geographic_location = EarthLocation.from_geocentric(average_position['ave_x'],\n",
    "                                                        average_position['ave_y'],\n",
    "                                                        average_position['ave_z'],unit=u.m)\n",
    "    utcoffset = +2*u.hour\n",
    "    time_now = Time(datetime.utcnow(), scale='utc') - utcoffset\n",
    "    time_zone = '[SAST]'\n",
    "    \n",
    "elif desired_array == 'Low':\n",
    "    print(\"Array:\"+desired_array)\n",
    "    station = LowPositions('AncillData/low_array_coords.dat')\n",
    "    average_position = station.array_ave_position()\n",
    "    geographic_location = EarthLocation.from_geocentric(average_position['ave_x'],\n",
    "                                                        average_position['ave_y'],\n",
    "                                                        average_position['ave_z'],unit=u.m)\n",
    "    utcoffset = +8*u.hour\n",
    "    time_now = Time(datetime.utcnow(), scale='utc') - utcoffset\n",
    "    time_zone = '[AWST]'\n",
    "else:\n",
    "    print(\"That is not an SKA Telescope \")\n",
    "    "
   ]
  },
  {
   "cell_type": "markdown",
   "metadata": {},
   "source": [
    "## Define Time range"
   ]
  },
  {
   "cell_type": "code",
   "execution_count": 5,
   "metadata": {},
   "outputs": [
    {
     "ename": "TypeError",
     "evalue": "Unsupported operand type(s) for ufunc add: 'str,Quantity'",
     "output_type": "error",
     "traceback": [
      "\u001b[0;31m---------------------------------------------------------------------------\u001b[0m",
      "\u001b[0;31mUFuncTypeError\u001b[0m                            Traceback (most recent call last)",
      "\u001b[0;32m/opt/anaconda3/lib/python3.8/site-packages/astropy/units/quantity_helper/converters.py\u001b[0m in \u001b[0;36mconverters_and_unit\u001b[0;34m(function, method, *args)\u001b[0m\n\u001b[1;32m    180\u001b[0m                         \u001b[0;32mcontinue\u001b[0m\u001b[0;34m\u001b[0m\u001b[0;34m\u001b[0m\u001b[0m\n\u001b[0;32m--> 181\u001b[0;31m                     \u001b[0;32mif\u001b[0m \u001b[0mcan_have_arbitrary_unit\u001b[0m\u001b[0;34m(\u001b[0m\u001b[0margs\u001b[0m\u001b[0;34m[\u001b[0m\u001b[0mi\u001b[0m\u001b[0;34m]\u001b[0m\u001b[0;34m)\u001b[0m\u001b[0;34m:\u001b[0m\u001b[0;34m\u001b[0m\u001b[0;34m\u001b[0m\u001b[0m\n\u001b[0m\u001b[1;32m    182\u001b[0m                         \u001b[0mconverters\u001b[0m\u001b[0;34m[\u001b[0m\u001b[0mi\u001b[0m\u001b[0;34m]\u001b[0m \u001b[0;34m=\u001b[0m \u001b[0;32mNone\u001b[0m\u001b[0;34m\u001b[0m\u001b[0;34m\u001b[0m\u001b[0m\n",
      "\u001b[0;32m/opt/anaconda3/lib/python3.8/site-packages/astropy/units/quantity_helper/converters.py\u001b[0m in \u001b[0;36mcan_have_arbitrary_unit\u001b[0;34m(value)\u001b[0m\n\u001b[1;32m    121\u001b[0m     \"\"\"\n\u001b[0;32m--> 122\u001b[0;31m     \u001b[0;32mreturn\u001b[0m \u001b[0mnp\u001b[0m\u001b[0;34m.\u001b[0m\u001b[0mall\u001b[0m\u001b[0;34m(\u001b[0m\u001b[0mnp\u001b[0m\u001b[0;34m.\u001b[0m\u001b[0mlogical_or\u001b[0m\u001b[0;34m(\u001b[0m\u001b[0mnp\u001b[0m\u001b[0;34m.\u001b[0m\u001b[0mequal\u001b[0m\u001b[0;34m(\u001b[0m\u001b[0mvalue\u001b[0m\u001b[0;34m,\u001b[0m \u001b[0;36m0.\u001b[0m\u001b[0;34m)\u001b[0m\u001b[0;34m,\u001b[0m \u001b[0;34m~\u001b[0m\u001b[0mnp\u001b[0m\u001b[0;34m.\u001b[0m\u001b[0misfinite\u001b[0m\u001b[0;34m(\u001b[0m\u001b[0mvalue\u001b[0m\u001b[0;34m)\u001b[0m\u001b[0;34m)\u001b[0m\u001b[0;34m)\u001b[0m\u001b[0;34m\u001b[0m\u001b[0;34m\u001b[0m\u001b[0m\n\u001b[0m\u001b[1;32m    123\u001b[0m \u001b[0;34m\u001b[0m\u001b[0m\n",
      "\u001b[0;31mUFuncTypeError\u001b[0m: ufunc 'equal' did not contain a loop with signature matching types (dtype('<U32'), dtype('<U32')) -> dtype('bool')",
      "\nDuring handling of the above exception, another exception occurred:\n",
      "\u001b[0;31mTypeError\u001b[0m                                 Traceback (most recent call last)",
      "\u001b[0;32m<ipython-input-5-b4d08e72a312>\u001b[0m in \u001b[0;36m<module>\u001b[0;34m\u001b[0m\n\u001b[1;32m      5\u001b[0m                               plotsteps = 200)\n\u001b[1;32m      6\u001b[0m \u001b[0;34m\u001b[0m\u001b[0m\n\u001b[0;32m----> 7\u001b[0;31m \u001b[0mobs_time_delta\u001b[0m \u001b[0;34m=\u001b[0m \u001b[0mobs_time\u001b[0m\u001b[0;34m.\u001b[0m\u001b[0mobs_period_delta\u001b[0m\u001b[0;34m(\u001b[0m\u001b[0;34m)\u001b[0m\u001b[0;34m\u001b[0m\u001b[0;34m\u001b[0m\u001b[0m\n\u001b[0m",
      "\u001b[0;32m~/Documents/Code/Onboarding/radio-astro-tutorials/helpers/TimeRange.py\u001b[0m in \u001b[0;36mobs_period_delta\u001b[0;34m(self)\u001b[0m\n\u001b[1;32m     32\u001b[0m     \u001b[0;32mdef\u001b[0m \u001b[0mobs_period_delta\u001b[0m\u001b[0;34m(\u001b[0m\u001b[0mself\u001b[0m\u001b[0;34m)\u001b[0m\u001b[0;34m:\u001b[0m\u001b[0;34m\u001b[0m\u001b[0;34m\u001b[0m\u001b[0m\n\u001b[1;32m     33\u001b[0m         \u001b[0mobs_start\u001b[0m \u001b[0;34m=\u001b[0m  \u001b[0mself\u001b[0m\u001b[0;34m.\u001b[0m\u001b[0mobs_period_start\u001b[0m\u001b[0;31m# LOCAL\u001b[0m\u001b[0;34m\u001b[0m\u001b[0;34m\u001b[0m\u001b[0m\n\u001b[0;32m---> 34\u001b[0;31m         \u001b[0mobs_end\u001b[0m \u001b[0;34m=\u001b[0m \u001b[0mobs_start\u001b[0m \u001b[0;34m+\u001b[0m \u001b[0mself\u001b[0m\u001b[0;34m.\u001b[0m\u001b[0mobs_period_length\u001b[0m\u001b[0;34m\u001b[0m\u001b[0;34m\u001b[0m\u001b[0m\n\u001b[0m\u001b[1;32m     35\u001b[0m \u001b[0;34m\u001b[0m\u001b[0m\n\u001b[1;32m     36\u001b[0m         \u001b[0;31m#-- generate linear time steps to plot over\u001b[0m\u001b[0;34m\u001b[0m\u001b[0;34m\u001b[0m\u001b[0;34m\u001b[0m\u001b[0m\n",
      "\u001b[0;32m/opt/anaconda3/lib/python3.8/site-packages/astropy/units/quantity.py\u001b[0m in \u001b[0;36m__array_ufunc__\u001b[0;34m(self, function, method, *inputs, **kwargs)\u001b[0m\n\u001b[1;32m    457\u001b[0m         \u001b[0;31m# consistent units between two inputs (e.g., in np.add) --\u001b[0m\u001b[0;34m\u001b[0m\u001b[0;34m\u001b[0m\u001b[0;34m\u001b[0m\u001b[0m\n\u001b[1;32m    458\u001b[0m         \u001b[0;31m# and the unit of the result (or tuple of units for nout > 1).\u001b[0m\u001b[0;34m\u001b[0m\u001b[0;34m\u001b[0m\u001b[0;34m\u001b[0m\u001b[0m\n\u001b[0;32m--> 459\u001b[0;31m         \u001b[0mconverters\u001b[0m\u001b[0;34m,\u001b[0m \u001b[0munit\u001b[0m \u001b[0;34m=\u001b[0m \u001b[0mconverters_and_unit\u001b[0m\u001b[0;34m(\u001b[0m\u001b[0mfunction\u001b[0m\u001b[0;34m,\u001b[0m \u001b[0mmethod\u001b[0m\u001b[0;34m,\u001b[0m \u001b[0;34m*\u001b[0m\u001b[0minputs\u001b[0m\u001b[0;34m)\u001b[0m\u001b[0;34m\u001b[0m\u001b[0;34m\u001b[0m\u001b[0m\n\u001b[0m\u001b[1;32m    460\u001b[0m \u001b[0;34m\u001b[0m\u001b[0m\n\u001b[1;32m    461\u001b[0m         \u001b[0mout\u001b[0m \u001b[0;34m=\u001b[0m \u001b[0mkwargs\u001b[0m\u001b[0;34m.\u001b[0m\u001b[0mget\u001b[0m\u001b[0;34m(\u001b[0m\u001b[0;34m'out'\u001b[0m\u001b[0;34m,\u001b[0m \u001b[0;32mNone\u001b[0m\u001b[0;34m)\u001b[0m\u001b[0;34m\u001b[0m\u001b[0;34m\u001b[0m\u001b[0m\n",
      "\u001b[0;32m/opt/anaconda3/lib/python3.8/site-packages/astropy/units/quantity_helper/converters.py\u001b[0m in \u001b[0;36mconverters_and_unit\u001b[0;34m(function, method, *args)\u001b[0m\n\u001b[1;32m    191\u001b[0m                 \u001b[0;31m# _can_have_arbitrary_unit failed: arg could not be compared\u001b[0m\u001b[0;34m\u001b[0m\u001b[0;34m\u001b[0m\u001b[0;34m\u001b[0m\u001b[0m\n\u001b[1;32m    192\u001b[0m                 \u001b[0;31m# with zero or checked to be finite. Then, ufunc will fail too.\u001b[0m\u001b[0;34m\u001b[0m\u001b[0;34m\u001b[0m\u001b[0;34m\u001b[0m\u001b[0m\n\u001b[0;32m--> 193\u001b[0;31m                 raise TypeError(\"Unsupported operand type(s) for ufunc {}: \"\n\u001b[0m\u001b[1;32m    194\u001b[0m                                 \"'{}'\".format(function.__name__,\n\u001b[1;32m    195\u001b[0m                                                ','.join([arg.__class__.__name__\n",
      "\u001b[0;31mTypeError\u001b[0m: Unsupported operand type(s) for ufunc add: 'str,Quantity'"
     ]
    }
   ],
   "source": [
    "obs_time = TimeRange(obs_period_start = '2023-5-17 16:00:01', \n",
    "                              obs_period_length = 2.0, \n",
    "                              obs_period_unit = 'h', \n",
    "                              utcoffset= +2,\n",
    "                              plotsteps = 200)\n",
    "\n",
    "obs_time_delta = obs_time.obs_period_delta()"
   ]
  },
  {
   "cell_type": "markdown",
   "metadata": {},
   "source": [
    "## Set Target Coordinate(s) \n",
    "Give target coordinate(s) in ICRS"
   ]
  },
  {
   "cell_type": "code",
   "execution_count": 5,
   "metadata": {},
   "outputs": [],
   "source": [
    "target_dict = {'1646-50': \"21:08:46.86357 -50:44:48.37\", \n",
    "               '1934-638': \"19:39:25.026 -63:42:45.63\", \n",
    "               '1921-293': \"19:24:51.055957 -29:14:30.121150\",\n",
    "               'sdc335': \"16:30:58.638 -48:43:51.70\"}"
   ]
  },
  {
   "cell_type": "markdown",
   "metadata": {},
   "source": [
    "## Do the plot"
   ]
  },
  {
   "cell_type": "code",
   "execution_count": 1,
   "metadata": {},
   "outputs": [
    {
     "ename": "NameError",
     "evalue": "name 'plt' is not defined",
     "output_type": "error",
     "traceback": [
      "\u001b[0;31m---------------------------------------------------------------------------\u001b[0m",
      "\u001b[0;31mNameError\u001b[0m                                 Traceback (most recent call last)",
      "\u001b[0;32m<ipython-input-1-dda9ebf1f4b7>\u001b[0m in \u001b[0;36m<module>\u001b[0;34m\u001b[0m\n\u001b[0;32m----> 1\u001b[0;31m \u001b[0mfig_rs\u001b[0m \u001b[0;34m=\u001b[0m \u001b[0mplt\u001b[0m\u001b[0;34m.\u001b[0m\u001b[0mfigure\u001b[0m\u001b[0;34m(\u001b[0m\u001b[0;36m1\u001b[0m\u001b[0;34m,\u001b[0m \u001b[0mfigsize\u001b[0m\u001b[0;34m=\u001b[0m\u001b[0;34m(\u001b[0m\u001b[0;36m12\u001b[0m\u001b[0;34m,\u001b[0m\u001b[0;36m8\u001b[0m\u001b[0;34m)\u001b[0m\u001b[0;34m)\u001b[0m\u001b[0;34m\u001b[0m\u001b[0;34m\u001b[0m\u001b[0m\n\u001b[0m\u001b[1;32m      2\u001b[0m \u001b[0max_rs\u001b[0m \u001b[0;34m=\u001b[0m \u001b[0mfig_rs\u001b[0m\u001b[0;34m.\u001b[0m\u001b[0madd_subplot\u001b[0m\u001b[0;34m(\u001b[0m\u001b[0;36m111\u001b[0m\u001b[0;34m)\u001b[0m\u001b[0;34m\u001b[0m\u001b[0;34m\u001b[0m\u001b[0m\n\u001b[1;32m      3\u001b[0m \u001b[0;34m\u001b[0m\u001b[0m\n\u001b[1;32m      4\u001b[0m \u001b[0;31m#-- set up the\u001b[0m\u001b[0;34m\u001b[0m\u001b[0;34m\u001b[0m\u001b[0;34m\u001b[0m\u001b[0m\n\u001b[1;32m      5\u001b[0m \u001b[0max_rs\u001b[0m\u001b[0;34m.\u001b[0m\u001b[0mset_xlabel\u001b[0m\u001b[0;34m(\u001b[0m\u001b[0;34m'Local Time '\u001b[0m\u001b[0;34m+\u001b[0m\u001b[0mtime_zone\u001b[0m\u001b[0;34m)\u001b[0m\u001b[0;34m\u001b[0m\u001b[0;34m\u001b[0m\u001b[0m\n",
      "\u001b[0;31mNameError\u001b[0m: name 'plt' is not defined"
     ]
    }
   ],
   "source": [
    "fig_rs = plt.figure(1, figsize=(12,8))\n",
    "ax_rs = fig_rs.add_subplot(111)\n",
    "\n",
    "#-- set up the \n",
    "ax_rs.set_xlabel('Local Time '+time_zone)\n",
    "ax_rs.set_ylabel('Altitude [deg]')\n",
    "ax_rs.hlines(y = 15.0, xmin = 0, xmax = len(obs_time_delta), linestyle = '--', color = 'k', label='elevation limit')\n",
    "ax_rs.set_xlim([0.0,len(obs_time_delta)])\n",
    "ax_rs.set_ylim([-90.0,90.0])\n",
    "\n",
    "for target_name, target_coord in target_dict.items():\n",
    "    \"\"\"Conver coords to astropy Skycoord instance\"\"\"\n",
    "    target_coord_sky = SkyCoord(target_coord, frame = 'icrs', unit = (u.hourangle, u.deg))\n",
    "    \"\"\"Convert target coords to Az_el (called AltAz in astropy)\"\"\"\n",
    "    target_azel = target_coord_sky.transform_to(AltAz(obstime = obs_time_delta,\n",
    "                                             location = geographic_location))\n",
    "    print(target_azel)\n",
    "    \"\"\"Plot\"\"\"\n",
    "    ax_rs.plot(obs_time_delta.value,\n",
    "               target_azel.alt,\n",
    "               label = target_name)\n",
    "\n",
    "tick_spacing = 20\n",
    "ax_rs.xaxis.set_major_locator(ticker.MultipleLocator(tick_spacing+1))\n",
    "ax_rs.legend(loc='upper center', bbox_to_anchor=(0.5, 1.1), ncol = len(target_dict)+1\n",
    "             , fontsize = 16.0)\n",
    "plt.gcf().autofmt_xdate()\n",
    "plt.show()\n"
   ]
  },
  {
   "cell_type": "code",
   "execution_count": 23,
   "metadata": {},
   "outputs": [
    {
     "name": "stdout",
     "output_type": "stream",
     "text": [
      "rising between: 2023-07-05 13:18:24.518 and 2023-07-05 13:25:38.688\n",
      "-0.14320915470618054 1 / (d min)\n",
      "setting between: 2023-07-06 02:56:05.824 and 2023-07-06 03:03:19.995\n"
     ]
    },
    {
     "data": {
      "text/plain": [
       "\" There is an case here where the last elif will fail if idx is the last index in that array (idx = len(array))\\nbecause it can't access idx + 1. But I am  too tired\""
      ]
     },
     "execution_count": 23,
     "metadata": {},
     "output_type": "execute_result"
    }
   ],
   "source": [
    "#--- Testing AzAlt for RiseSet statment\n",
    "# print(target_azel.alt.value)\n",
    "# print(np.where(np.asarray(target_azel.alt.value))>15.0)\n",
    "ellim = 15.0\n",
    "index_above_ellim = np.where(np.asarray(target_azel.alt.value) >= ellim)[0]\n",
    "\n",
    "if len(index_above_ellim) == len(np.asarray(target_azel.alt.value)):\n",
    "    print(\"Source never goes below elevation limit for specified time\")\n",
    "elif len(index_above_ellim) == 0:\n",
    "     print(\"Source never goes above elevation limit for specified time\")\n",
    "else:                                 \n",
    "    for idx in index_above_ellim:\n",
    "        if target_azel.alt.value[idx - 1] < ellim:\n",
    "            print(\"rising between: \"+str(obs_time_delta.value[idx - 1])+\" and \"+obs_time_delta.value[idx])\n",
    "            dx = (obs_time_delta[idx] - obs_time_delta[idx - 1])*(24.*60.)*u.min   #--- Minutes\n",
    "            dy = target_azel.alt.value[idx - 1] - target_azel.alt.value[idx] #--- Degrees\n",
    "            print(dy/dx)\n",
    "        elif target_azel.alt.value[idx + 1] < ellim:\n",
    "            print(\"setting between: \"+str(obs_time_delta.value[idx])+\" and \"+obs_time_delta.value[idx + 1])\n",
    "            \n",
    "\"\"\" There is an case here where the last elif will fail if idx is the last index in that array (idx = len(array))\n",
    "because it can't access idx + 1. But I am  too tired\"\"\"\n"
   ]
  }
 ],
 "metadata": {
  "kernelspec": {
   "display_name": "Python 3",
   "language": "python",
   "name": "python3"
  },
  "language_info": {
   "codemirror_mode": {
    "name": "ipython",
    "version": 3
   },
   "file_extension": ".py",
   "mimetype": "text/x-python",
   "name": "python",
   "nbconvert_exporter": "python",
   "pygments_lexer": "ipython3",
   "version": "3.8.8"
  }
 },
 "nbformat": 4,
 "nbformat_minor": 2
}
