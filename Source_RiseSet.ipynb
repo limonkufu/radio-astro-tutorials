{
 "cells": [
  {
   "cell_type": "code",
   "execution_count": 1,
   "metadata": {},
   "outputs": [],
   "source": [
    "import matplotlib.pyplot as plt\n",
    "import numpy as np\n",
    "from datetime import datetime\n",
    "from astropy.visualization import astropy_mpl_style, quantity_support\n",
    "import astropy.units as u\n",
    "from astropy.coordinates import AltAz, EarthLocation, SkyCoord, ICRS, Longitude\n",
    "from astropy.time import Time\n",
    "from helpers.ArrayCoordinate import MidPositions\n",
    "\n",
    "plt.style.use(astropy_mpl_style)"
   ]
  },
  {
   "cell_type": "code",
   "execution_count": 2,
   "metadata": {},
   "outputs": [
    {
     "data": {
      "text/plain": [
       "'Turn into a single Command\\n\\nplotObservable(array,targets,start_time,obs_period)\\n'"
      ]
     },
     "execution_count": 2,
     "metadata": {},
     "output_type": "execute_result"
    }
   ],
   "source": [
    "\"\"\"Turn into a single Command\n",
    "\n",
    "plotObservable(array,targets,start_time,obs_period)\n",
    "\"\"\""
   ]
  },
  {
   "cell_type": "markdown",
   "metadata": {},
   "source": [
    "## Load array positions"
   ]
  },
  {
   "cell_type": "code",
   "execution_count": 3,
   "metadata": {},
   "outputs": [
    {
     "name": "stdout",
     "output_type": "stream",
     "text": [
      "Array:Mid\n",
      "Using only SKA dishes \n",
      "AncillData/mid_array_coords.dat\n"
     ]
    }
   ],
   "source": [
    "desired_array = 'Mid' #(or 'Low')\n",
    "if desired_array == 'Mid':\n",
    "    print(\"Array:\"+desired_array+\"\\nUsing only SKA dishes \")\n",
    "    ska_dishes = MidPositions('AncillData/mid_array_coords.dat','SKA')\n",
    "    ska_average_position = ska_dishes.array_ave_position()\n",
    "    geographic_location = EarthLocation.from_geocentric(ska_average_position['ave_x'],\n",
    "                                                        ska_average_position['ave_y'],\n",
    "                                                        ska_average_position['ave_z'],unit=u.m)\n",
    "    utcoffset = +2*u.hour  # FIX!\n",
    "    time_now = Time(datetime.utcnow(), scale='utc') - utcoffset\n",
    "    time_zone = '[SAST]'\n",
    "    \n",
    "elif desired_array == 'Low':\n",
    "    print('FILL THIS IN ADAM')\n",
    "    \"\"\"\n",
    "    array_x = [1.0]\n",
    "    array_y = [2.0]\n",
    "    array_z = [3.0]\n",
    "    \n",
    "    geographic_location = EarthLocation.of_site('MeerKAT')\n",
    "    utcoffset = +8*u.hour  # FIX!\n",
    "    time_now = Time(datetime.utcnow(), scale='utc') - utcoffset\n",
    "    \"\"\"\n",
    "else:\n",
    "    print(\"That is not an SKA Telescope \")\n",
    "    "
   ]
  },
  {
   "cell_type": "markdown",
   "metadata": {},
   "source": [
    "## Define Time range"
   ]
  },
  {
   "cell_type": "code",
   "execution_count": 4,
   "metadata": {},
   "outputs": [],
   "source": [
    "obs_period_length = 24.0*u.hour\n",
    "\n",
    "obs_period_start = Time('2023-7-5 12:00:00') # UTC\n",
    "obs_period_start_local = obs_period_start - utcoffset # LOCAL\n",
    "start_hour_local = float(obs_period_start_local.datetime.strftime(\"%H\"))\n",
    "\n",
    "obs_period_end_local = obs_period_start_local + obs_period_length # LOCAL\n",
    "obs_period_end = obs_period_start_local + obs_period_length # UTC\n",
    "end_hour_local = float(obs_period_end_local.datetime.strftime(\"%H\"))\n",
    "\n",
    "obs_period_delta_local = np.linspace(0.0, obs_period_length.value, 100)*u.hour"
   ]
  },
  {
   "cell_type": "markdown",
   "metadata": {},
   "source": [
    "## Set Target Coordinate(s) \n",
    "Give target coordinate(s) in ICRS"
   ]
  },
  {
   "cell_type": "code",
   "execution_count": 5,
   "metadata": {},
   "outputs": [],
   "source": [
    "coords = [\"16:50:16.635 -20:44:48.37\", \n",
    "         \"19:39:25.026 -63:42:45.63\",\n",
    "         \"19:24:51.055957 -29:14:30.121150\"]\n",
    "\n",
    "targets = SkyCoord(coords, frame = 'icrs', unit = (u.hourangle, u.deg))\n",
    "\n",
    "target_names = ['1646-50', '1934-638', '1921-293']"
   ]
  },
  {
   "cell_type": "code",
   "execution_count": 9,
   "metadata": {},
   "outputs": [
    {
     "name": "stdout",
     "output_type": "stream",
     "text": [
      "1646-50 16:50:16.635 -20:44:48.37\n",
      "1934-638 19:39:25.026 -63:42:45.63\n",
      "1921-293 19:24:51.055957 -29:14:30.121150\n",
      "dict_values(['16:50:16.635 -20:44:48.37', '19:39:25.026 -63:42:45.63', '19:24:51.055957 -29:14:30.121150'])\n"
     ]
    },
    {
     "ename": "ValueError",
     "evalue": "Cannot parse coordinates from first argument",
     "output_type": "error",
     "traceback": [
      "\u001b[0;31m---------------------------------------------------------------------------\u001b[0m",
      "\u001b[0;31mValueError\u001b[0m                                Traceback (most recent call last)",
      "\u001b[0;32m<ipython-input-9-94678cbd3304>\u001b[0m in \u001b[0;36m<module>\u001b[0;34m\u001b[0m\n\u001b[1;32m      7\u001b[0m \u001b[0;34m\u001b[0m\u001b[0m\n\u001b[1;32m      8\u001b[0m \u001b[0mprint\u001b[0m\u001b[0;34m(\u001b[0m\u001b[0mtarget_dict\u001b[0m\u001b[0;34m.\u001b[0m\u001b[0mvalues\u001b[0m\u001b[0;34m(\u001b[0m\u001b[0;34m)\u001b[0m\u001b[0;34m)\u001b[0m\u001b[0;34m\u001b[0m\u001b[0;34m\u001b[0m\u001b[0m\n\u001b[0;32m----> 9\u001b[0;31m \u001b[0mtargets2\u001b[0m \u001b[0;34m=\u001b[0m \u001b[0mSkyCoord\u001b[0m\u001b[0;34m(\u001b[0m\u001b[0mtarget_dict\u001b[0m\u001b[0;34m.\u001b[0m\u001b[0mvalues\u001b[0m\u001b[0;34m(\u001b[0m\u001b[0;34m)\u001b[0m\u001b[0;34m,\u001b[0m \u001b[0mframe\u001b[0m \u001b[0;34m=\u001b[0m \u001b[0;34m'icrs'\u001b[0m\u001b[0;34m,\u001b[0m \u001b[0munit\u001b[0m \u001b[0;34m=\u001b[0m \u001b[0;34m(\u001b[0m\u001b[0mu\u001b[0m\u001b[0;34m.\u001b[0m\u001b[0mhourangle\u001b[0m\u001b[0;34m,\u001b[0m \u001b[0mu\u001b[0m\u001b[0;34m.\u001b[0m\u001b[0mdeg\u001b[0m\u001b[0;34m)\u001b[0m\u001b[0;34m)\u001b[0m\u001b[0;34m\u001b[0m\u001b[0;34m\u001b[0m\u001b[0m\n\u001b[0m",
      "\u001b[0;32m/opt/anaconda3/lib/python3.8/site-packages/astropy/coordinates/sky_coordinate.py\u001b[0m in \u001b[0;36m__init__\u001b[0;34m(self, copy, *args, **kwargs)\u001b[0m\n\u001b[1;32m    312\u001b[0m             \u001b[0;31m# creating the internal self._sky_coord_frame object\u001b[0m\u001b[0;34m\u001b[0m\u001b[0;34m\u001b[0m\u001b[0;34m\u001b[0m\u001b[0m\n\u001b[1;32m    313\u001b[0m             \u001b[0margs\u001b[0m \u001b[0;34m=\u001b[0m \u001b[0mlist\u001b[0m\u001b[0;34m(\u001b[0m\u001b[0margs\u001b[0m\u001b[0;34m)\u001b[0m  \u001b[0;31m# Make it mutable\u001b[0m\u001b[0;34m\u001b[0m\u001b[0;34m\u001b[0m\u001b[0m\n\u001b[0;32m--> 314\u001b[0;31m             skycoord_kwargs, components, info = _parse_coordinate_data(\n\u001b[0m\u001b[1;32m    315\u001b[0m                 frame_cls(**frame_kwargs), args, kwargs)\n\u001b[1;32m    316\u001b[0m \u001b[0;34m\u001b[0m\u001b[0m\n",
      "\u001b[0;32m/opt/anaconda3/lib/python3.8/site-packages/astropy/coordinates/sky_coordinate_parsers.py\u001b[0m in \u001b[0;36m_parse_coordinate_data\u001b[0;34m(frame, args, kwargs)\u001b[0m\n\u001b[1;32m    282\u001b[0m             \u001b[0;31m# frame attributes like equinox or obstime which were explicitly\u001b[0m\u001b[0;34m\u001b[0m\u001b[0;34m\u001b[0m\u001b[0;34m\u001b[0m\u001b[0m\n\u001b[1;32m    283\u001b[0m             \u001b[0;31m# specified in the coordinate object (i.e. non-default).\u001b[0m\u001b[0;34m\u001b[0m\u001b[0;34m\u001b[0m\u001b[0;34m\u001b[0m\u001b[0m\n\u001b[0;32m--> 284\u001b[0;31m             _skycoord_kwargs, _components = _parse_coordinate_arg(\n\u001b[0m\u001b[1;32m    285\u001b[0m                 args[0], frame, units, kwargs)\n\u001b[1;32m    286\u001b[0m \u001b[0;34m\u001b[0m\u001b[0m\n",
      "\u001b[0;32m/opt/anaconda3/lib/python3.8/site-packages/astropy/coordinates/sky_coordinate_parsers.py\u001b[0m in \u001b[0;36m_parse_coordinate_arg\u001b[0;34m(coords, frame, units, init_kwargs)\u001b[0m\n\u001b[1;32m    553\u001b[0m                 \u001b[0mvalues\u001b[0m \u001b[0;34m=\u001b[0m \u001b[0;34m[\u001b[0m\u001b[0mx\u001b[0m\u001b[0;34m[\u001b[0m\u001b[0;36m0\u001b[0m\u001b[0;34m]\u001b[0m \u001b[0;32mfor\u001b[0m \u001b[0mx\u001b[0m \u001b[0;32min\u001b[0m \u001b[0mvalues\u001b[0m\u001b[0;34m]\u001b[0m\u001b[0;34m\u001b[0m\u001b[0;34m\u001b[0m\u001b[0m\n\u001b[1;32m    554\u001b[0m     \u001b[0;32melse\u001b[0m\u001b[0;34m:\u001b[0m\u001b[0;34m\u001b[0m\u001b[0;34m\u001b[0m\u001b[0m\n\u001b[0;32m--> 555\u001b[0;31m         \u001b[0;32mraise\u001b[0m \u001b[0mValueError\u001b[0m\u001b[0;34m(\u001b[0m\u001b[0;34m'Cannot parse coordinates from first argument'\u001b[0m\u001b[0;34m)\u001b[0m\u001b[0;34m\u001b[0m\u001b[0;34m\u001b[0m\u001b[0m\n\u001b[0m\u001b[1;32m    556\u001b[0m \u001b[0;34m\u001b[0m\u001b[0m\n\u001b[1;32m    557\u001b[0m     \u001b[0;31m# Finally we have a list of values from which to create the keyword args\u001b[0m\u001b[0;34m\u001b[0m\u001b[0;34m\u001b[0m\u001b[0;34m\u001b[0m\u001b[0m\n",
      "\u001b[0;31mValueError\u001b[0m: Cannot parse coordinates from first argument"
     ]
    }
   ],
   "source": [
    "target_dict = {'1646-50': \"16:50:16.635 -20:44:48.37\", \n",
    "               '1934-638': \"19:39:25.026 -63:42:45.63\", \n",
    "               '1921-293': \"19:24:51.055957 -29:14:30.121150\"}\n",
    "\n",
    "for k, v in target_dict.items():\n",
    "    print(k, v)\n",
    "    \n",
    "print(target_dict.values())\n",
    "targets2 = SkyCoord(target_dict.values(), frame = 'icrs', unit = (u.hourangle, u.deg))"
   ]
  },
  {
   "cell_type": "markdown",
   "metadata": {},
   "source": [
    "## Do the plot"
   ]
  },
  {
   "cell_type": "code",
   "execution_count": null,
   "metadata": {},
   "outputs": [],
   "source": [
    "fig_rs = plt.figure(1)\n",
    "ax_rs = fig_rs.add_subplot(111)\n",
    "\n",
    "#-- set up the \n",
    "ax_rs.set_xlabel('Local Time '+time_zone)\n",
    "ax_rs.set_ylabel('Altitude [deg]')\n",
    "ax_rs.hlines(y = 15.0, xmin = 10.0, xmax = 34.0, linestyle = '--', color = 'k', label='elevation limit')\n",
    "ax_rs.set_xlim([10.0,34.0])\n",
    "ax_rs.set_ylim([0.0,90.0])\n",
    "\n",
    "ix = 0\n",
    "for target in targets:\n",
    "    \"\"\"Convert target coords to Az_el (called AltAz in astropy)\"\"\"\n",
    "    target_azel = target.transform_to(AltAz(obstime = obs_period_start_local+obs_period_delta_local,\n",
    "                                             location = geographic_location))\n",
    "    ax_rs.plot(obs_period_delta_local+(float(obs_period_start_local.datetime.strftime(\"%H\"))*u.hour),\n",
    "               target_azel.alt,label=target_names[ix])\n",
    "    ix += 1\n",
    "\n",
    "ax_rs.legend(loc='best', bbox_to_anchor=(0.5, 0., 0.5, 0.5))\n",
    "plt.show()"
   ]
  }
 ],
 "metadata": {
  "kernelspec": {
   "display_name": "Python 3",
   "language": "python",
   "name": "python3"
  },
  "language_info": {
   "codemirror_mode": {
    "name": "ipython",
    "version": 3
   },
   "file_extension": ".py",
   "mimetype": "text/x-python",
   "name": "python",
   "nbconvert_exporter": "python",
   "pygments_lexer": "ipython3",
   "version": "3.8.8"
  }
 },
 "nbformat": 4,
 "nbformat_minor": 2
}
