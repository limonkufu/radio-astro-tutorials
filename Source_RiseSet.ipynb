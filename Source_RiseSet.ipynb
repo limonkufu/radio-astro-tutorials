{
 "cells": [
  {
   "cell_type": "code",
   "execution_count": 1,
   "metadata": {},
   "outputs": [],
   "source": [
    "import matplotlib.pyplot as plt\n",
    "import numpy as np\n",
    "from astropy.visualization import astropy_mpl_style, quantity_support\n",
    "import astropy.units as u\n",
    "from astropy.coordinates import AltAz, EarthLocation, SkyCoord, ICRS\n",
    "from astropy.time import Time"
   ]
  },
  {
   "cell_type": "markdown",
   "metadata": {},
   "source": [
    "## Load array positions"
   ]
  },
  {
   "cell_type": "code",
   "execution_count": 2,
   "metadata": {},
   "outputs": [],
   "source": [
    "desired_array = 'Mid' #(or 'Low')\n",
    "if desired_array == 'Mid':\n",
    "    array_x = [1.0]\n",
    "    array_y = [2.0]\n",
    "    array_z = [3.0]\n",
    "    \n",
    "    geographic_location = ''\n",
    "    \n",
    "elif desired_array == 'Low':\n",
    "    print('FILL THIS IN ADAM')\n",
    "else:\n",
    "    print(\"That is not an SKA Telescope \")"
   ]
  },
  {
   "cell_type": "markdown",
   "metadata": {},
   "source": [
    "## Set Target Coordinate(s) \n",
    "Give target coordinate(s) in ICRS\n",
    "\n",
    "_single source only supported so far_"
   ]
  },
  {
   "cell_type": "code",
   "execution_count": 5,
   "metadata": {},
   "outputs": [],
   "source": [
    "target = SkyCoord(frame=ICRS, ra = '19:34:23.5000', dec='-60:00:00.000', unit=(u.hourangle, u.deg))"
   ]
  }
 ],
 "metadata": {
  "kernelspec": {
   "display_name": "Python 3",
   "language": "python",
   "name": "python3"
  },
  "language_info": {
   "codemirror_mode": {
    "name": "ipython",
    "version": 3
   },
   "file_extension": ".py",
   "mimetype": "text/x-python",
   "name": "python",
   "nbconvert_exporter": "python",
   "pygments_lexer": "ipython3",
   "version": "3.8.8"
  }
 },
 "nbformat": 4,
 "nbformat_minor": 2
}
