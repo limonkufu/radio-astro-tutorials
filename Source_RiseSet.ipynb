{
 "cells": [
  {
   "cell_type": "code",
   "execution_count": 65,
   "metadata": {},
   "outputs": [],
   "source": [
    "import matplotlib.pyplot as plt\n",
    "import numpy as np\n",
    "from datetime import datetime\n",
    "from astropy.visualization import astropy_mpl_style, quantity_support\n",
    "import astropy.units as u\n",
    "from astropy.coordinates import AltAz, EarthLocation, SkyCoord, ICRS, Longitude\n",
    "from astropy.time import Time\n",
    "\n",
    "plt.style.use(astropy_mpl_style)"
   ]
  },
  {
   "cell_type": "code",
   "execution_count": null,
   "metadata": {},
   "outputs": [],
   "source": [
    "\"\"\"Turn into a single Command\n",
    "\n",
    "plotObservable(array,targets,start_time,obs_period,print)\n",
    "\"\"\""
   ]
  },
  {
   "cell_type": "markdown",
   "metadata": {},
   "source": [
    "## Load array positions"
   ]
  },
  {
   "cell_type": "code",
   "execution_count": 20,
   "metadata": {},
   "outputs": [
    {
     "name": "stdout",
     "output_type": "stream",
     "text": [
      "Array:Mid -->THIS HAS DUMMY VALUES\n"
     ]
    }
   ],
   "source": [
    "desired_array = 'Mid' #(or 'Low')\n",
    "if desired_array == 'Mid':\n",
    "    print(\"Array:\"+desired_array+\" --> THIS HAS DUMMY VALUES\")\n",
    "    array_x = [1.0]\n",
    "    array_y = [2.0]\n",
    "    array_z = [3.0]\n",
    "    \n",
    "    geographic_location = EarthLocation.of_site('MeerKAT')\n",
    "    utcoffset = +2*u.hour  # FIX!\n",
    "    time_now = Time(datetime.utcnow(), scale='utc') - utcoffset\n",
    "    \n",
    "elif desired_array == 'Low':\n",
    "    print('FILL THIS IN ADAM')\n",
    "    \"\"\"\n",
    "    array_x = [1.0]\n",
    "    array_y = [2.0]\n",
    "    array_z = [3.0]\n",
    "    \n",
    "    geographic_location = EarthLocation.of_site('MeerKAT')\n",
    "    utcoffset = +8*u.hour  # FIX!\n",
    "    time_now = Time(datetime.utcnow(), scale='utc') - utcoffset\n",
    "    \"\"\"\n",
    "else:\n",
    "    print(\"That is not an SKA Telescope \")"
   ]
  },
  {
   "cell_type": "markdown",
   "metadata": {},
   "source": [
    "## Define Time range"
   ]
  },
  {
   "cell_type": "code",
   "execution_count": 53,
   "metadata": {},
   "outputs": [],
   "source": [
    "obs_period_length = 12.0*u.hour\n",
    "\n",
    "obs_period_start = Time('2023-7-5 12:00:00') # UTC\n",
    "obs_period_start_local = obs_period_start - utcoffset # LOCAL\n",
    "start_hour_local = float(obs_period_start_local.datetime.strftime(\"%H\"))\n",
    "\n",
    "obs_period_end_local = obs_period_start_local + obs_period_length # LOCAL\n",
    "obs_period_end = obs_period_start_local + obs_period_length # UTC\n",
    "end_hour_local = float(obs_period_end_local.datetime.strftime(\"%H\"))\n",
    "\n",
    "obs_period_delta_local = np.linspace(0.0, obs_period_length.value, 100)*u.hour\n"
   ]
  },
  {
   "cell_type": "markdown",
   "metadata": {},
   "source": [
    "## Set Target Coordinate(s) \n",
    "Give target coordinate(s) in ICRS\n",
    "\n",
    "_single source only supported so far_"
   ]
  },
  {
   "cell_type": "code",
   "execution_count": 69,
   "metadata": {},
   "outputs": [],
   "source": [
    "# target = SkyCoord(frame = ICRS, ra = '19:34:23.5000', dec = '-60:00:00.000', unit = (u.hourangle, u.deg))\n",
    "coords = [\"19:39:25.026 -63:42:45.63\", ]\n",
    "target = SkyCoord(coords, frame = 'icrs', unit = (u.hourangle, u.deg))\n",
    "\"\"\"Convert target coords to Az_el (called AltAz in astropy)\"\"\"\n",
    "target_azel = target.transform_to(AltAz(obstime = obs_period_start_local+obs_period_delta_local, location = geographic_location))\n",
    "\n",
    "\n",
    "# coords = [\"1:12:43.2 +31:12:43\", \"1 12 43.2 +31 12 43\"]\n",
    "# c = SkyCoord(coords, frame = 'icrs', unit = (u.hourangle, u.deg))\n",
    "# print(c)"
   ]
  },
  {
   "cell_type": "markdown",
   "metadata": {},
   "source": [
    "## Do the plot"
   ]
  },
  {
   "cell_type": "code",
   "execution_count": 70,
   "metadata": {},
   "outputs": [
    {
     "data": {
      "image/png": "[encoded data removed]",
      "text/plain": [
       "<Figure size 576x432 with 1 Axes>"
      ]
     },
     "metadata": {},
     "output_type": "display_data"
    }
   ],
   "source": [
    "plt.plot(obs_period_delta_local, target_azel.alt, color = 'darkmagenta')\n",
    "plt.show()"
   ]
  }
 ],
 "metadata": {
  "kernelspec": {
   "display_name": "Python 3",
   "language": "python",
   "name": "python3"
  },
  "language_info": {
   "codemirror_mode": {
    "name": "ipython",
    "version": 3
   },
   "file_extension": ".py",
   "mimetype": "text/x-python",
   "name": "python",
   "nbconvert_exporter": "python",
   "pygments_lexer": "ipython3",
   "version": "3.8.8"
  }
 },
 "nbformat": 4,
 "nbformat_minor": 2
}
